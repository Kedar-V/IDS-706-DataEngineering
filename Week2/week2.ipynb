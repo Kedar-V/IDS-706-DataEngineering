{
 "cells": [
  {
   "cell_type": "markdown",
   "id": "535b2036",
   "metadata": {},
   "source": [
    "# Installation and Setup"
   ]
  },
  {
   "cell_type": "code",
   "execution_count": 79,
   "id": "f793c7c6",
   "metadata": {},
   "outputs": [
    {
     "name": "stdout",
     "output_type": "stream",
     "text": [
      "Requirement already satisfied: pyspark in /opt/homebrew/lib/python3.10/site-packages (4.0.1)\n",
      "Requirement already satisfied: py4j==0.10.9.9 in /opt/homebrew/lib/python3.10/site-packages (from pyspark) (0.10.9.9)\n",
      "\n",
      "\u001b[1m[\u001b[0m\u001b[34;49mnotice\u001b[0m\u001b[1;39;49m]\u001b[0m\u001b[39;49m A new release of pip is available: \u001b[0m\u001b[31;49m24.0\u001b[0m\u001b[39;49m -> \u001b[0m\u001b[32;49m25.2\u001b[0m\n",
      "\u001b[1m[\u001b[0m\u001b[34;49mnotice\u001b[0m\u001b[1;39;49m]\u001b[0m\u001b[39;49m To update, run: \u001b[0m\u001b[32;49mpython3.10 -m pip install --upgrade pip\u001b[0m\n",
      "Requirement already satisfied: pyspark in /opt/homebrew/lib/python3.10/site-packages (4.0.1)\n",
      "Requirement already satisfied: py4j==0.10.9.9 in /opt/homebrew/lib/python3.10/site-packages (from pyspark) (0.10.9.9)\n",
      "\n",
      "\u001b[1m[\u001b[0m\u001b[34;49mnotice\u001b[0m\u001b[1;39;49m]\u001b[0m\u001b[39;49m A new release of pip is available: \u001b[0m\u001b[31;49m24.0\u001b[0m\u001b[39;49m -> \u001b[0m\u001b[32;49m25.2\u001b[0m\n",
      "\u001b[1m[\u001b[0m\u001b[34;49mnotice\u001b[0m\u001b[1;39;49m]\u001b[0m\u001b[39;49m To update, run: \u001b[0m\u001b[32;49mpython3.10 -m pip install --upgrade pip\u001b[0m\n",
      "Using pip 24.0 from /opt/homebrew/lib/python3.10/site-packages/pip (python 3.10)\n",
      "Requirement already satisfied: pyspark in /opt/homebrew/lib/python3.10/site-packages (4.0.1)\n",
      "Requirement already satisfied: py4j==0.10.9.9 in /opt/homebrew/lib/python3.10/site-packages (from pyspark) (0.10.9.9)\n",
      "\n",
      "\u001b[1m[\u001b[0m\u001b[34;49mnotice\u001b[0m\u001b[1;39;49m]\u001b[0m\u001b[39;49m A new release of pip is available: \u001b[0m\u001b[31;49m24.0\u001b[0m\u001b[39;49m -> \u001b[0m\u001b[32;49m25.2\u001b[0m\n",
      "\u001b[1m[\u001b[0m\u001b[34;49mnotice\u001b[0m\u001b[1;39;49m]\u001b[0m\u001b[39;49m To update, run: \u001b[0m\u001b[32;49mpython3.10 -m pip install --upgrade pip\u001b[0m\n",
      "Requirement already satisfied: pyspark-connect in /opt/homebrew/lib/python3.10/site-packages (4.0.1)\n",
      "Requirement already satisfied: pyspark==4.0.1 in /opt/homebrew/lib/python3.10/site-packages (from pyspark-connect) (4.0.1)\n",
      "Requirement already satisfied: pandas>=2.0.0 in /opt/homebrew/lib/python3.10/site-packages (from pyspark-connect) (2.3.2)\n",
      "Requirement already satisfied: pyarrow>=11.0.0 in /opt/homebrew/lib/python3.10/site-packages (from pyspark-connect) (21.0.0)\n",
      "Requirement already satisfied: grpcio>=1.67.0 in /opt/homebrew/lib/python3.10/site-packages (from pyspark-connect) (1.74.0)\n",
      "Requirement already satisfied: grpcio-status>=1.67.0 in /opt/homebrew/lib/python3.10/site-packages (from pyspark-connect) (1.74.0)\n",
      "Requirement already satisfied: googleapis-common-protos>=1.65.0 in /opt/homebrew/lib/python3.10/site-packages (from pyspark-connect) (1.70.0)\n",
      "Requirement already satisfied: numpy>=1.21 in /opt/homebrew/lib/python3.10/site-packages (from pyspark-connect) (1.23.5)\n",
      "Requirement already satisfied: py4j==0.10.9.9 in /opt/homebrew/lib/python3.10/site-packages (from pyspark==4.0.1->pyspark-connect) (0.10.9.9)\n",
      "Requirement already satisfied: protobuf!=4.21.1,!=4.21.2,!=4.21.3,!=4.21.4,!=4.21.5,<7.0.0,>=3.20.2 in /opt/homebrew/lib/python3.10/site-packages (from googleapis-common-protos>=1.65.0->pyspark-connect) (6.32.0)\n",
      "Requirement already satisfied: python-dateutil>=2.8.2 in /Users/kedarvaidya/Library/Python/3.10/lib/python/site-packages (from pandas>=2.0.0->pyspark-connect) (2.8.2)\n",
      "Requirement already satisfied: pytz>=2020.1 in /opt/homebrew/lib/python3.10/site-packages (from pandas>=2.0.0->pyspark-connect) (2022.6)\n",
      "Requirement already satisfied: tzdata>=2022.7 in /opt/homebrew/lib/python3.10/site-packages (from pandas>=2.0.0->pyspark-connect) (2025.2)\n",
      "Requirement already satisfied: six>=1.5 in /opt/homebrew/lib/python3.10/site-packages (from python-dateutil>=2.8.2->pandas>=2.0.0->pyspark-connect) (1.16.0)\n",
      "\n",
      "\u001b[1m[\u001b[0m\u001b[34;49mnotice\u001b[0m\u001b[1;39;49m]\u001b[0m\u001b[39;49m A new release of pip is available: \u001b[0m\u001b[31;49m24.0\u001b[0m\u001b[39;49m -> \u001b[0m\u001b[32;49m25.2\u001b[0m\n",
      "\u001b[1m[\u001b[0m\u001b[34;49mnotice\u001b[0m\u001b[1;39;49m]\u001b[0m\u001b[39;49m To update, run: \u001b[0m\u001b[32;49mpython3.10 -m pip install --upgrade pip\u001b[0m\n"
     ]
    }
   ],
   "source": [
    "# Pyspark\n",
    "!pip install pyspark\n",
    "!PYSPARK_HADOOP_VERSION=3 pip install pyspark\n",
    "!PYSPARK_HADOOP_VERSION=3 pip install pyspark -v\n",
    "!pip install pyspark-connect"
   ]
  },
  {
   "cell_type": "code",
   "execution_count": 80,
   "id": "7b4764bd",
   "metadata": {},
   "outputs": [
    {
     "name": "stdout",
     "output_type": "stream",
     "text": [
      "Requirement already satisfied: polars in /opt/homebrew/lib/python3.10/site-packages (1.33.0)\n",
      "\n",
      "\u001b[1m[\u001b[0m\u001b[34;49mnotice\u001b[0m\u001b[1;39;49m]\u001b[0m\u001b[39;49m A new release of pip is available: \u001b[0m\u001b[31;49m24.0\u001b[0m\u001b[39;49m -> \u001b[0m\u001b[32;49m25.2\u001b[0m\n",
      "\u001b[1m[\u001b[0m\u001b[34;49mnotice\u001b[0m\u001b[1;39;49m]\u001b[0m\u001b[39;49m To update, run: \u001b[0m\u001b[32;49mpython3.10 -m pip install --upgrade pip\u001b[0m\n"
     ]
    }
   ],
   "source": [
    "# Polars\n",
    "!pip install polars"
   ]
  },
  {
   "cell_type": "code",
   "execution_count": 81,
   "id": "768bef58",
   "metadata": {},
   "outputs": [
    {
     "name": "stdout",
     "output_type": "stream",
     "text": [
      "Requirement already satisfied: pandas in /opt/homebrew/lib/python3.10/site-packages (2.3.2)\n",
      "Requirement already satisfied: numpy>=1.22.4 in /opt/homebrew/lib/python3.10/site-packages (from pandas) (1.23.5)\n",
      "Requirement already satisfied: python-dateutil>=2.8.2 in /Users/kedarvaidya/Library/Python/3.10/lib/python/site-packages (from pandas) (2.8.2)\n",
      "Requirement already satisfied: pytz>=2020.1 in /opt/homebrew/lib/python3.10/site-packages (from pandas) (2022.6)\n",
      "Requirement already satisfied: tzdata>=2022.7 in /opt/homebrew/lib/python3.10/site-packages (from pandas) (2025.2)\n",
      "Requirement already satisfied: six>=1.5 in /opt/homebrew/lib/python3.10/site-packages (from python-dateutil>=2.8.2->pandas) (1.16.0)\n",
      "\n",
      "\u001b[1m[\u001b[0m\u001b[34;49mnotice\u001b[0m\u001b[1;39;49m]\u001b[0m\u001b[39;49m A new release of pip is available: \u001b[0m\u001b[31;49m24.0\u001b[0m\u001b[39;49m -> \u001b[0m\u001b[32;49m25.2\u001b[0m\n",
      "\u001b[1m[\u001b[0m\u001b[34;49mnotice\u001b[0m\u001b[1;39;49m]\u001b[0m\u001b[39;49m To update, run: \u001b[0m\u001b[32;49mpython3.10 -m pip install --upgrade pip\u001b[0m\n"
     ]
    }
   ],
   "source": [
    "# Pandas\n",
    "!pip install pandas"
   ]
  },
  {
   "cell_type": "code",
   "execution_count": null,
   "id": "d90682be",
   "metadata": {},
   "outputs": [
    {
     "name": "stdout",
     "output_type": "stream",
     "text": [
      "Requirement already satisfied: matplotlib in /opt/homebrew/lib/python3.10/site-packages (3.10.6)\n",
      "Requirement already satisfied: contourpy>=1.0.1 in /opt/homebrew/lib/python3.10/site-packages (from matplotlib) (1.3.2)\n",
      "Requirement already satisfied: cycler>=0.10 in /opt/homebrew/lib/python3.10/site-packages (from matplotlib) (0.12.1)\n",
      "Requirement already satisfied: fonttools>=4.22.0 in /opt/homebrew/lib/python3.10/site-packages (from matplotlib) (4.59.2)\n",
      "Requirement already satisfied: kiwisolver>=1.3.1 in /opt/homebrew/lib/python3.10/site-packages (from matplotlib) (1.4.9)\n",
      "Requirement already satisfied: numpy>=1.23 in /opt/homebrew/lib/python3.10/site-packages (from matplotlib) (1.23.5)\n",
      "Requirement already satisfied: packaging>=20.0 in /opt/homebrew/lib/python3.10/site-packages (from matplotlib) (21.3)\n",
      "Requirement already satisfied: pillow>=8 in /opt/homebrew/lib/python3.10/site-packages (from matplotlib) (11.3.0)\n",
      "Requirement already satisfied: pyparsing>=2.3.1 in /opt/homebrew/lib/python3.10/site-packages (from matplotlib) (3.0.9)\n",
      "Requirement already satisfied: python-dateutil>=2.7 in /Users/kedarvaidya/Library/Python/3.10/lib/python/site-packages (from matplotlib) (2.8.2)\n",
      "Requirement already satisfied: six>=1.5 in /opt/homebrew/lib/python3.10/site-packages (from python-dateutil>=2.7->matplotlib) (1.16.0)\n",
      "\n",
      "\u001b[1m[\u001b[0m\u001b[34;49mnotice\u001b[0m\u001b[1;39;49m]\u001b[0m\u001b[39;49m A new release of pip is available: \u001b[0m\u001b[31;49m24.0\u001b[0m\u001b[39;49m -> \u001b[0m\u001b[32;49m25.2\u001b[0m\n",
      "\u001b[1m[\u001b[0m\u001b[34;49mnotice\u001b[0m\u001b[1;39;49m]\u001b[0m\u001b[39;49m To update, run: \u001b[0m\u001b[32;49mpython3.10 -m pip install --upgrade pip\u001b[0m\n",
      "Requirement already satisfied: seaborn in /opt/homebrew/lib/python3.10/site-packages (0.13.2)\n",
      "Requirement already satisfied: numpy!=1.24.0,>=1.20 in /opt/homebrew/lib/python3.10/site-packages (from seaborn) (1.23.5)\n",
      "Requirement already satisfied: pandas>=1.2 in /opt/homebrew/lib/python3.10/site-packages (from seaborn) (2.3.2)\n",
      "Requirement already satisfied: matplotlib!=3.6.1,>=3.4 in /opt/homebrew/lib/python3.10/site-packages (from seaborn) (3.10.6)\n",
      "Requirement already satisfied: contourpy>=1.0.1 in /opt/homebrew/lib/python3.10/site-packages (from matplotlib!=3.6.1,>=3.4->seaborn) (1.3.2)\n",
      "Requirement already satisfied: cycler>=0.10 in /opt/homebrew/lib/python3.10/site-packages (from matplotlib!=3.6.1,>=3.4->seaborn) (0.12.1)\n",
      "Requirement already satisfied: fonttools>=4.22.0 in /opt/homebrew/lib/python3.10/site-packages (from matplotlib!=3.6.1,>=3.4->seaborn) (4.59.2)\n",
      "Requirement already satisfied: kiwisolver>=1.3.1 in /opt/homebrew/lib/python3.10/site-packages (from matplotlib!=3.6.1,>=3.4->seaborn) (1.4.9)\n",
      "Requirement already satisfied: packaging>=20.0 in /opt/homebrew/lib/python3.10/site-packages (from matplotlib!=3.6.1,>=3.4->seaborn) (21.3)\n",
      "Requirement already satisfied: pillow>=8 in /opt/homebrew/lib/python3.10/site-packages (from matplotlib!=3.6.1,>=3.4->seaborn) (11.3.0)\n",
      "Requirement already satisfied: pyparsing>=2.3.1 in /opt/homebrew/lib/python3.10/site-packages (from matplotlib!=3.6.1,>=3.4->seaborn) (3.0.9)\n",
      "Requirement already satisfied: python-dateutil>=2.7 in /Users/kedarvaidya/Library/Python/3.10/lib/python/site-packages (from matplotlib!=3.6.1,>=3.4->seaborn) (2.8.2)\n",
      "Requirement already satisfied: pytz>=2020.1 in /opt/homebrew/lib/python3.10/site-packages (from pandas>=1.2->seaborn) (2022.6)\n",
      "Requirement already satisfied: tzdata>=2022.7 in /opt/homebrew/lib/python3.10/site-packages (from pandas>=1.2->seaborn) (2025.2)\n",
      "Requirement already satisfied: six>=1.5 in /opt/homebrew/lib/python3.10/site-packages (from python-dateutil>=2.7->matplotlib!=3.6.1,>=3.4->seaborn) (1.16.0)\n",
      "\n",
      "\u001b[1m[\u001b[0m\u001b[34;49mnotice\u001b[0m\u001b[1;39;49m]\u001b[0m\u001b[39;49m A new release of pip is available: \u001b[0m\u001b[31;49m24.0\u001b[0m\u001b[39;49m -> \u001b[0m\u001b[32;49m25.2\u001b[0m\n",
      "\u001b[1m[\u001b[0m\u001b[34;49mnotice\u001b[0m\u001b[1;39;49m]\u001b[0m\u001b[39;49m To update, run: \u001b[0m\u001b[32;49mpython3.10 -m pip install --upgrade pip\u001b[0m\n"
     ]
    }
   ],
   "source": [
    "!pip install matplotlib\n",
    "!pip install mplfinance\n",
    "!pip install seaborn"
   ]
  },
  {
   "cell_type": "code",
   "execution_count": 124,
   "id": "a56fbc1b",
   "metadata": {},
   "outputs": [
    {
     "data": {
      "text/plain": [
       "(1757289420.0, datetime.datetime(1970, 1, 1, 0, 29, 17, 289420))"
      ]
     },
     "execution_count": 124,
     "metadata": {},
     "output_type": "execute_result"
    }
   ],
   "source": [
    "df_old, df = loader.load('polars')\n",
    "df_old['Timestamp'][-1], df['Timestamp'][-1]"
   ]
  },
  {
   "cell_type": "code",
   "execution_count": 126,
   "id": "9a336889",
   "metadata": {},
   "outputs": [
    {
     "data": {
      "text/html": [
       "<div>\n",
       "<style scoped>\n",
       "    .dataframe tbody tr th:only-of-type {\n",
       "        vertical-align: middle;\n",
       "    }\n",
       "\n",
       "    .dataframe tbody tr th {\n",
       "        vertical-align: top;\n",
       "    }\n",
       "\n",
       "    .dataframe thead th {\n",
       "        text-align: right;\n",
       "    }\n",
       "</style>\n",
       "<table border=\"1\" class=\"dataframe\">\n",
       "  <thead>\n",
       "    <tr style=\"text-align: right;\">\n",
       "      <th></th>\n",
       "      <th>Timestamp</th>\n",
       "      <th>Open</th>\n",
       "      <th>High</th>\n",
       "      <th>Low</th>\n",
       "      <th>Close</th>\n",
       "      <th>Volume</th>\n",
       "    </tr>\n",
       "  </thead>\n",
       "  <tbody>\n",
       "    <tr>\n",
       "      <th>0</th>\n",
       "      <td>2012-01-01 10:01:00</td>\n",
       "      <td>4.58</td>\n",
       "      <td>4.58</td>\n",
       "      <td>4.58</td>\n",
       "      <td>4.58</td>\n",
       "      <td>0.000000</td>\n",
       "    </tr>\n",
       "    <tr>\n",
       "      <th>1</th>\n",
       "      <td>2012-01-01 10:02:00</td>\n",
       "      <td>4.58</td>\n",
       "      <td>4.58</td>\n",
       "      <td>4.58</td>\n",
       "      <td>4.58</td>\n",
       "      <td>0.000000</td>\n",
       "    </tr>\n",
       "    <tr>\n",
       "      <th>2</th>\n",
       "      <td>2012-01-01 10:03:00</td>\n",
       "      <td>4.58</td>\n",
       "      <td>4.58</td>\n",
       "      <td>4.58</td>\n",
       "      <td>4.58</td>\n",
       "      <td>0.000000</td>\n",
       "    </tr>\n",
       "    <tr>\n",
       "      <th>3</th>\n",
       "      <td>2012-01-01 10:04:00</td>\n",
       "      <td>4.58</td>\n",
       "      <td>4.58</td>\n",
       "      <td>4.58</td>\n",
       "      <td>4.58</td>\n",
       "      <td>0.000000</td>\n",
       "    </tr>\n",
       "    <tr>\n",
       "      <th>4</th>\n",
       "      <td>2012-01-01 10:05:00</td>\n",
       "      <td>4.58</td>\n",
       "      <td>4.58</td>\n",
       "      <td>4.58</td>\n",
       "      <td>4.58</td>\n",
       "      <td>0.000000</td>\n",
       "    </tr>\n",
       "    <tr>\n",
       "      <th>...</th>\n",
       "      <td>...</td>\n",
       "      <td>...</td>\n",
       "      <td>...</td>\n",
       "      <td>...</td>\n",
       "      <td>...</td>\n",
       "      <td>...</td>\n",
       "    </tr>\n",
       "    <tr>\n",
       "      <th>7196792</th>\n",
       "      <td>2025-09-07 23:53:00</td>\n",
       "      <td>111152.00</td>\n",
       "      <td>111154.00</td>\n",
       "      <td>111117.00</td>\n",
       "      <td>111154.00</td>\n",
       "      <td>2.995635</td>\n",
       "    </tr>\n",
       "    <tr>\n",
       "      <th>7196793</th>\n",
       "      <td>2025-09-07 23:54:00</td>\n",
       "      <td>111154.00</td>\n",
       "      <td>111154.00</td>\n",
       "      <td>111123.00</td>\n",
       "      <td>111124.00</td>\n",
       "      <td>1.144068</td>\n",
       "    </tr>\n",
       "    <tr>\n",
       "      <th>7196794</th>\n",
       "      <td>2025-09-07 23:55:00</td>\n",
       "      <td>111129.00</td>\n",
       "      <td>111153.00</td>\n",
       "      <td>111129.00</td>\n",
       "      <td>111145.00</td>\n",
       "      <td>0.195623</td>\n",
       "    </tr>\n",
       "    <tr>\n",
       "      <th>7196795</th>\n",
       "      <td>2025-09-07 23:56:00</td>\n",
       "      <td>111139.00</td>\n",
       "      <td>111144.00</td>\n",
       "      <td>111139.00</td>\n",
       "      <td>111140.00</td>\n",
       "      <td>0.046351</td>\n",
       "    </tr>\n",
       "    <tr>\n",
       "      <th>7196796</th>\n",
       "      <td>2025-09-07 23:57:00</td>\n",
       "      <td>111139.00</td>\n",
       "      <td>111177.00</td>\n",
       "      <td>111132.00</td>\n",
       "      <td>111163.00</td>\n",
       "      <td>2.628279</td>\n",
       "    </tr>\n",
       "  </tbody>\n",
       "</table>\n",
       "<p>7196797 rows × 6 columns</p>\n",
       "</div>"
      ],
      "text/plain": [
       "                  Timestamp       Open       High        Low      Close  \\\n",
       "0       2012-01-01 10:01:00       4.58       4.58       4.58       4.58   \n",
       "1       2012-01-01 10:02:00       4.58       4.58       4.58       4.58   \n",
       "2       2012-01-01 10:03:00       4.58       4.58       4.58       4.58   \n",
       "3       2012-01-01 10:04:00       4.58       4.58       4.58       4.58   \n",
       "4       2012-01-01 10:05:00       4.58       4.58       4.58       4.58   \n",
       "...                     ...        ...        ...        ...        ...   \n",
       "7196792 2025-09-07 23:53:00  111152.00  111154.00  111117.00  111154.00   \n",
       "7196793 2025-09-07 23:54:00  111154.00  111154.00  111123.00  111124.00   \n",
       "7196794 2025-09-07 23:55:00  111129.00  111153.00  111129.00  111145.00   \n",
       "7196795 2025-09-07 23:56:00  111139.00  111144.00  111139.00  111140.00   \n",
       "7196796 2025-09-07 23:57:00  111139.00  111177.00  111132.00  111163.00   \n",
       "\n",
       "           Volume  \n",
       "0        0.000000  \n",
       "1        0.000000  \n",
       "2        0.000000  \n",
       "3        0.000000  \n",
       "4        0.000000  \n",
       "...           ...  \n",
       "7196792  2.995635  \n",
       "7196793  1.144068  \n",
       "7196794  0.195623  \n",
       "7196795  0.046351  \n",
       "7196796  2.628279  \n",
       "\n",
       "[7196797 rows x 6 columns]"
      ]
     },
     "execution_count": 126,
     "metadata": {},
     "output_type": "execute_result"
    }
   ],
   "source": [
    "loader.load('pandas')"
   ]
  },
  {
   "cell_type": "markdown",
   "id": "20800e90",
   "metadata": {},
   "source": [
    "# Benchmark Pandas v/s Polars v/s Pyspark"
   ]
  },
  {
   "cell_type": "code",
   "execution_count": null,
   "id": "82ea2971",
   "metadata": {},
   "outputs": [],
   "source": [
    "from pyspark.sql import SparkSession\n",
    "from pyspark.sql.functions import col\n",
    "\n",
    "spark = SparkSession.builder.appName(\"DataFrameLoader\").getOrCreate()\n",
    "# try:\n",
    "#     spark.stop()\n",
    "# except:\n",
    "#     pass"
   ]
  },
  {
   "cell_type": "code",
   "execution_count": null,
   "id": "682f2d1f",
   "metadata": {},
   "outputs": [],
   "source": [
    "import pandas as pd\n",
    "import polars as pl\n",
    "from pyspark.sql import SparkSession\n",
    "from pyspark.sql.functions import col, from_unixtime, year, mean as Fmean\n",
    "import matplotlib.pyplot as plt\n",
    "import time\n",
    "\n",
    "class DataFrameLoader:\n",
    "    def __init__(self, csv_path):\n",
    "        self.csv_path = csv_path\n",
    "        try:\n",
    "            self.spark = SparkSession.builder.appName(\"DataFrameLoader\").getOrCreate()\n",
    "        except:\n",
    "            self.spark = None\n",
    "\n",
    "    def load(self, library='pandas'):\n",
    "        library = library.lower()\n",
    "\n",
    "        if library == 'pandas':\n",
    "            df = pd.read_csv(self.csv_path)\n",
    "            # Keep Timestamp as epoch seconds\n",
    "            return df\n",
    "\n",
    "        elif library == 'polars':\n",
    "            df = pl.read_csv(self.csv_path)\n",
    "            # Keep Timestamp as Int64 (epoch seconds)\n",
    "            if \"Timestamp\" in df.columns and df[\"Timestamp\"].dtype not in [pl.Int64, pl.Float64]:\n",
    "                df = df.with_columns(pl.col(\"Timestamp\").cast(pl.Int64))\n",
    "            return df\n",
    "\n",
    "        elif library == 'pyspark':\n",
    "            if self.spark is None:\n",
    "                raise ValueError(\"Spark session not initialized\")\n",
    "            df = self.spark.read.csv(self.csv_path, header=True, inferSchema=True)\n",
    "            # Keep Timestamp as epoch seconds (LongType)\n",
    "            if \"Timestamp\" in df.columns:\n",
    "                df = df.withColumn(\"Timestamp\", col(\"Timestamp\").cast(\"long\"))\n",
    "            return df\n",
    "\n",
    "        else:\n",
    "            raise ValueError(\"Unsupported library. Choose 'pandas', 'polars', or 'pyspark'.\")\n",
    "\n",
    "    def benchmark(self):\n",
    "        libraries = ['pandas', 'polars', 'pyspark']\n",
    "        timings = {lib: {} for lib in libraries}\n",
    "\n",
    "        for lib in libraries:\n",
    "            start = time.time()\n",
    "            df = self.load(lib)\n",
    "            timings[lib]['read'] = time.time() - start\n",
    "\n",
    "            start = time.time()\n",
    "            if lib == 'pyspark':\n",
    "                df.show(5, truncate=False)\n",
    "            else:\n",
    "                df.head()\n",
    "            timings[lib]['head'] = time.time() - start\n",
    "\n",
    "            start = time.time()\n",
    "            if lib == 'pandas':\n",
    "                _ = df[df['Close'] > 50000]\n",
    "            elif lib == 'polars':\n",
    "                _ = df.filter(pl.col(\"Close\") > 50000)\n",
    "            elif lib == 'pyspark':\n",
    "                _ = df.filter(df[\"Close\"] > 50000).count()\n",
    "            timings[lib]['filter'] = time.time() - start\n",
    "\n",
    "            start = time.time()\n",
    "            # ---------- GroupBy Year ----------\n",
    "            if 'Timestamp' in df.columns:\n",
    "                if lib == 'pandas':\n",
    "                    # convert epoch to year on the fly\n",
    "                    df['Year'] = pd.to_datetime(df['Timestamp'], unit='s').dt.year\n",
    "                    _ = df.groupby('Year')['Close'].mean()\n",
    "                elif lib == 'polars':\n",
    "                    df = df.with_columns(\n",
    "                        ((pl.col(\"Timestamp\") / 31556952 + 1970).cast(pl.Int64)).alias(\"Year\")\n",
    "                    )  # rough approximation: seconds in a year\n",
    "                    _ = df.group_by(\"Year\").agg(pl.mean(\"Close\"))\n",
    "                elif lib == 'pyspark':\n",
    "                    df = df.withColumn(\"Year\", year(from_unixtime(col(\"Timestamp\"))))\n",
    "                    _ = df.groupBy(\"Year\").agg(Fmean(\"Close\"))\n",
    "            timings[lib]['groupby_mean'] = time.time() - start\n",
    "\n",
    "        # ---------- Plot ----------\n",
    "        ops = ['read', 'head', 'filter', 'groupby_mean']\n",
    "        x = range(len(libraries))\n",
    "        plt.figure(figsize=(12,6))\n",
    "\n",
    "        for idx, op in enumerate(ops):\n",
    "            times = [timings[lib][op] for lib in libraries]\n",
    "            plt.bar([i + idx*0.2 for i in x], times, width=0.2, label=op)\n",
    "\n",
    "        plt.xticks([i + 0.3 for i in x], libraries)\n",
    "        plt.ylabel('Time (seconds)')\n",
    "        plt.title('CSV Benchmark: Pandas vs Polars vs PySpark (Epoch Timestamp)')\n",
    "        plt.legend()\n",
    "        plt.show()\n",
    "\n",
    "        return timings\n",
    "\n",
    "# LOAD AND BENCHMARK\n",
    "csv_file_path = \"btcusd_1-min_data.csv\"\n",
    "loader = DataFrameLoader(csv_file_path)\n"
   ]
  },
  {
   "cell_type": "markdown",
   "id": "a1bb675b",
   "metadata": {},
   "source": [
    "#### It can be seen that for a dataset size of approx 350MB, the overhead of pyspark is not justified and leads to worse comparision compared to Polars and even Pandas"
   ]
  },
  {
   "cell_type": "code",
   "execution_count": null,
   "id": "83570729",
   "metadata": {},
   "outputs": [
    {
     "name": "stderr",
     "output_type": "stream",
     "text": [
      "                                                                                \r"
     ]
    },
    {
     "name": "stdout",
     "output_type": "stream",
     "text": [
      "+----------+----+----+----+-----+------+\n",
      "|Timestamp |Open|High|Low |Close|Volume|\n",
      "+----------+----+----+----+-----+------+\n",
      "|1325412060|4.58|4.58|4.58|4.58 |0.0   |\n",
      "|1325412120|4.58|4.58|4.58|4.58 |0.0   |\n",
      "|1325412180|4.58|4.58|4.58|4.58 |0.0   |\n",
      "|1325412240|4.58|4.58|4.58|4.58 |0.0   |\n",
      "|1325412300|4.58|4.58|4.58|4.58 |0.0   |\n",
      "+----------+----+----+----+-----+------+\n",
      "only showing top 5 rows\n"
     ]
    },
    {
     "name": "stderr",
     "output_type": "stream",
     "text": [
      "[Stage 21:======================================>                   (2 + 1) / 3]\r"
     ]
    },
    {
     "data": {
      "image/png": "[encoded data removed]",
      "text/plain": [
       "<Figure size 1200x600 with 1 Axes>"
      ]
     },
     "metadata": {},
     "output_type": "display_data"
    },
    {
     "name": "stdout",
     "output_type": "stream",
     "text": [
      "Benchmark results (in seconds):\n",
      "pandas {'read': 2.9465601444244385, 'head': 0.00018596649169921875, 'filter': 0.03913307189941406, 'groupby_mean': 2.677454948425293}\n",
      "polars {'read': 0.41265392303466797, 'head': 6.389617919921875e-05, 'filter': 0.007007122039794922, 'groupby_mean': 0.03651690483093262}\n",
      "pyspark {'read': 10.807034015655518, 'head': 0.07787418365478516, 'filter': 5.950787782669067, 'groupby_mean': 0.006757259368896484}\n"
     ]
    }
   ],
   "source": [
    "# BENCHMARK\n",
    "benchmark_results = loader.benchmark()\n",
    "print(\"Benchmark results (in seconds):\")\n",
    "for lib, results in benchmark_results.items():\n",
    "    print(lib, results)"
   ]
  }
 ],
 "metadata": {
  "kernelspec": {
   "display_name": "Python 3",
   "language": "python",
   "name": "python3"
  },
  "language_info": {
   "codemirror_mode": {
    "name": "ipython",
    "version": 3
   },
   "file_extension": ".py",
   "mimetype": "text/x-python",
   "name": "python",
   "nbconvert_exporter": "python",
   "pygments_lexer": "ipython3",
   "version": "3.10.14"
  }
 },
 "nbformat": 4,
 "nbformat_minor": 5
}
