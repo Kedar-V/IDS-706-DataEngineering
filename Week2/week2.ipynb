{
 "cells": [
  {
   "cell_type": "markdown",
   "id": "535b2036",
   "metadata": {},
   "source": [
    "# Installation and Setup"
   ]
  },
  {
   "cell_type": "code",
   "execution_count": 3,
   "id": "f793c7c6",
   "metadata": {},
   "outputs": [
    {
     "name": "stdout",
     "output_type": "stream",
     "text": [
      "Defaulting to user installation because normal site-packages is not writeable\n",
      "Collecting pyspark\n",
      "  Downloading pyspark-4.0.1.tar.gz (434.2 MB)\n",
      "\u001b[2K     \u001b[90m━━━━━━━━━━━━━━━━━━━━━━━━━━━━━━━━━━━━━━━━\u001b[0m \u001b[32m434.2/434.2 MB\u001b[0m \u001b[31m2.4 MB/s\u001b[0m  \u001b[33m0:02:33\u001b[0m0:00:01\u001b[0m00:05\u001b[0m\n",
      "\u001b[?25h  Installing build dependencies ... \u001b[?25ldone\n",
      "\u001b[?25h  Getting requirements to build wheel ... \u001b[?25ldone\n",
      "\u001b[?25h  Preparing metadata (pyproject.toml) ... \u001b[?25ldone\n",
      "\u001b[?25hCollecting py4j==0.10.9.9 (from pyspark)\n",
      "  Downloading py4j-0.10.9.9-py2.py3-none-any.whl.metadata (1.3 kB)\n",
      "Downloading py4j-0.10.9.9-py2.py3-none-any.whl (203 kB)\n",
      "Building wheels for collected packages: pyspark\n",
      "  Building wheel for pyspark (pyproject.toml) ... \u001b[?25ldone\n",
      "\u001b[?25h  Created wheel for pyspark: filename=pyspark-4.0.1-py2.py3-none-any.whl size=434813860 sha256=caf5f69b578d735d9b9eacf0b3c561f7b38da46988692f3f8f698deb8ce6afef\n",
      "  Stored in directory: /home/vscode/.cache/pip/wheels/31/9f/68/f89fb34ccd886909be7d0e390eaaf97f21efdf540c0ee8dbcd\n",
      "Successfully built pyspark\n",
      "Installing collected packages: py4j, pyspark\n",
      "\u001b[2K   \u001b[90m━━━━━━━━━━━━━━━━━━━━━━━━━━━━━━━━━━━━━━━━\u001b[0m \u001b[32m2/2\u001b[0m [pyspark]m1/2\u001b[0m [pyspark]\n",
      "\u001b[1A\u001b[2KSuccessfully installed py4j-0.10.9.9 pyspark-4.0.1\n",
      "Defaulting to user installation because normal site-packages is not writeable\n",
      "Requirement already satisfied: pyspark in /home/vscode/.local/lib/python3.12/site-packages (4.0.1)\n",
      "Requirement already satisfied: py4j==0.10.9.9 in /home/vscode/.local/lib/python3.12/site-packages (from pyspark) (0.10.9.9)\n",
      "Using pip 25.2 from /home/vscode/.local/lib/python3.12/site-packages/pip (python 3.12)\n",
      "Defaulting to user installation because normal site-packages is not writeable\n",
      "Requirement already satisfied: pyspark in /home/vscode/.local/lib/python3.12/site-packages (4.0.1)\n",
      "Requirement already satisfied: py4j==0.10.9.9 in /home/vscode/.local/lib/python3.12/site-packages (from pyspark) (0.10.9.9)\n",
      "Defaulting to user installation because normal site-packages is not writeable\n",
      "Collecting pyspark-connect\n",
      "  Downloading pyspark_connect-4.0.1.tar.gz (4.8 kB)\n",
      "  Installing build dependencies ... \u001b[?25ldone\n",
      "\u001b[?25h  Getting requirements to build wheel ... \u001b[?25ldone\n",
      "\u001b[?25h  Preparing metadata (pyproject.toml) ... \u001b[?25ldone\n",
      "\u001b[?25hRequirement already satisfied: pyspark==4.0.1 in /home/vscode/.local/lib/python3.12/site-packages (from pyspark-connect) (4.0.1)\n",
      "Requirement already satisfied: pandas>=2.0.0 in /home/vscode/.local/lib/python3.12/site-packages (from pyspark-connect) (2.3.2)\n",
      "Collecting pyarrow>=11.0.0 (from pyspark-connect)\n",
      "  Downloading pyarrow-21.0.0-cp312-cp312-manylinux_2_28_aarch64.whl.metadata (3.3 kB)\n",
      "Collecting grpcio>=1.67.0 (from pyspark-connect)\n",
      "  Downloading grpcio-1.74.0-cp312-cp312-manylinux_2_17_aarch64.whl.metadata (3.8 kB)\n",
      "Collecting grpcio-status>=1.67.0 (from pyspark-connect)\n",
      "  Downloading grpcio_status-1.74.0-py3-none-any.whl.metadata (1.1 kB)\n",
      "Collecting googleapis-common-protos>=1.65.0 (from pyspark-connect)\n",
      "  Downloading googleapis_common_protos-1.70.0-py3-none-any.whl.metadata (9.3 kB)\n",
      "Requirement already satisfied: numpy>=1.21 in /home/vscode/.local/lib/python3.12/site-packages (from pyspark-connect) (2.3.2)\n",
      "Requirement already satisfied: py4j==0.10.9.9 in /home/vscode/.local/lib/python3.12/site-packages (from pyspark==4.0.1->pyspark-connect) (0.10.9.9)\n",
      "Collecting protobuf!=4.21.1,!=4.21.2,!=4.21.3,!=4.21.4,!=4.21.5,<7.0.0,>=3.20.2 (from googleapis-common-protos>=1.65.0->pyspark-connect)\n",
      "  Downloading protobuf-6.32.0-cp39-abi3-manylinux2014_aarch64.whl.metadata (593 bytes)\n",
      "Requirement already satisfied: python-dateutil>=2.8.2 in /home/vscode/.local/lib/python3.12/site-packages (from pandas>=2.0.0->pyspark-connect) (2.9.0.post0)\n",
      "Requirement already satisfied: pytz>=2020.1 in /home/vscode/.local/lib/python3.12/site-packages (from pandas>=2.0.0->pyspark-connect) (2025.2)\n",
      "Requirement already satisfied: tzdata>=2022.7 in /home/vscode/.local/lib/python3.12/site-packages (from pandas>=2.0.0->pyspark-connect) (2025.2)\n",
      "Requirement already satisfied: six>=1.5 in /home/vscode/.local/lib/python3.12/site-packages (from python-dateutil>=2.8.2->pandas>=2.0.0->pyspark-connect) (1.17.0)\n",
      "Downloading googleapis_common_protos-1.70.0-py3-none-any.whl (294 kB)\n",
      "Downloading protobuf-6.32.0-cp39-abi3-manylinux2014_aarch64.whl (322 kB)\n",
      "Downloading grpcio-1.74.0-cp312-cp312-manylinux_2_17_aarch64.whl (5.9 MB)\n",
      "\u001b[2K   \u001b[90m━━━━━━━━━━━━━━━━━━━━━━━━━━━━━━━━━━━━━━━━\u001b[0m \u001b[32m5.9/5.9 MB\u001b[0m \u001b[31m11.0 MB/s\u001b[0m  \u001b[33m0:00:00\u001b[0meta \u001b[36m0:00:01\u001b[0mm\n",
      "\u001b[?25hDownloading grpcio_status-1.74.0-py3-none-any.whl (14 kB)\n",
      "Downloading pyarrow-21.0.0-cp312-cp312-manylinux_2_28_aarch64.whl (41.1 MB)\n",
      "\u001b[2K   \u001b[90m━━━━━━━━━━━━━━━━━━━━━━━━━━━━━━━━━━━━━━━━\u001b[0m \u001b[32m41.1/41.1 MB\u001b[0m \u001b[31m4.7 MB/s\u001b[0m  \u001b[33m0:00:08\u001b[0mm0:00:01\u001b[0m00:01\u001b[0mm\n",
      "\u001b[?25hBuilding wheels for collected packages: pyspark-connect\n",
      "  Building wheel for pyspark-connect (pyproject.toml) ... \u001b[?25ldone\n",
      "\u001b[?25h  Created wheel for pyspark-connect: filename=pyspark_connect-4.0.1-py2.py3-none-any.whl size=3358 sha256=d469d19c6c3591d7606830614d9af5c08363ad9ff24b9148cec4174168db7b81\n",
      "  Stored in directory: /home/vscode/.cache/pip/wheels/36/2f/b5/8a0e8847ec1e48d6f3c9b79aa94c9cd68077518fc1927e9a5b\n",
      "Successfully built pyspark-connect\n",
      "Installing collected packages: pyarrow, protobuf, grpcio, googleapis-common-protos, grpcio-status, pyspark-connect\n",
      "\u001b[2K   \u001b[90m━━━━━━━━━━━━━━━━━━━━━━━━━━━━━━━━━━━━━━━━\u001b[0m \u001b[32m6/6\u001b[0m [pyspark-connect] [googleapis-common-protos]\n",
      "\u001b[1A\u001b[2KSuccessfully installed googleapis-common-protos-1.70.0 grpcio-1.74.0 grpcio-status-1.74.0 protobuf-6.32.0 pyarrow-21.0.0 pyspark-connect-4.0.1\n"
     ]
    }
   ],
   "source": [
    "# Pyspark\n",
    "!pip install pyspark\n",
    "!PYSPARK_HADOOP_VERSION=3 pip install pyspark\n",
    "!PYSPARK_HADOOP_VERSION=3 pip install pyspark -v\n",
    "!pip install pyspark-connect"
   ]
  },
  {
   "cell_type": "code",
   "execution_count": null,
   "id": "7b4764bd",
   "metadata": {},
   "outputs": [
    {
     "name": "stdout",
     "output_type": "stream",
     "text": [
      "Requirement already satisfied: polars in /opt/homebrew/lib/python3.10/site-packages (1.33.0)\n",
      "\n",
      "\u001b[1m[\u001b[0m\u001b[34;49mnotice\u001b[0m\u001b[1;39;49m]\u001b[0m\u001b[39;49m A new release of pip is available: \u001b[0m\u001b[31;49m24.0\u001b[0m\u001b[39;49m -> \u001b[0m\u001b[32;49m25.2\u001b[0m\n",
      "\u001b[1m[\u001b[0m\u001b[34;49mnotice\u001b[0m\u001b[1;39;49m]\u001b[0m\u001b[39;49m To update, run: \u001b[0m\u001b[32;49mpython3.10 -m pip install --upgrade pip\u001b[0m\n"
     ]
    }
   ],
   "source": [
    "!pip install polars\n",
    "!pip install pandas\n",
    "!pip install matplotlib\n",
    "!pip install mplfinance\n",
    "!pip install seaborn\n",
    "!pip install numpy"
   ]
  },
  {
   "cell_type": "markdown",
   "id": "20800e90",
   "metadata": {},
   "source": [
    "# Benchmark Pandas v/s Polars v/s Pyspark"
   ]
  },
  {
   "cell_type": "code",
   "execution_count": 5,
   "id": "82ea2971",
   "metadata": {},
   "outputs": [
    {
     "name": "stderr",
     "output_type": "stream",
     "text": [
      "JAVA_HOME is not set\n"
     ]
    },
    {
     "ename": "PySparkRuntimeError",
     "evalue": "[JAVA_GATEWAY_EXITED] Java gateway process exited before sending its port number.",
     "output_type": "error",
     "traceback": [
      "\u001b[31m---------------------------------------------------------------------------\u001b[39m",
      "\u001b[31mPySparkRuntimeError\u001b[39m                       Traceback (most recent call last)",
      "\u001b[36mCell\u001b[39m\u001b[36m \u001b[39m\u001b[32mIn[5]\u001b[39m\u001b[32m, line 4\u001b[39m\n\u001b[32m      1\u001b[39m \u001b[38;5;28;01mfrom\u001b[39;00m\u001b[38;5;250m \u001b[39m\u001b[34;01mpyspark\u001b[39;00m\u001b[34;01m.\u001b[39;00m\u001b[34;01msql\u001b[39;00m\u001b[38;5;250m \u001b[39m\u001b[38;5;28;01mimport\u001b[39;00m SparkSession\n\u001b[32m      2\u001b[39m \u001b[38;5;28;01mfrom\u001b[39;00m\u001b[38;5;250m \u001b[39m\u001b[34;01mpyspark\u001b[39;00m\u001b[34;01m.\u001b[39;00m\u001b[34;01msql\u001b[39;00m\u001b[34;01m.\u001b[39;00m\u001b[34;01mfunctions\u001b[39;00m\u001b[38;5;250m \u001b[39m\u001b[38;5;28;01mimport\u001b[39;00m col\n\u001b[32m----> \u001b[39m\u001b[32m4\u001b[39m spark = \u001b[43mSparkSession\u001b[49m\u001b[43m.\u001b[49m\u001b[43mbuilder\u001b[49m\u001b[43m.\u001b[49m\u001b[43mappName\u001b[49m\u001b[43m(\u001b[49m\u001b[33;43m\"\u001b[39;49m\u001b[33;43mDataFrameLoader\u001b[39;49m\u001b[33;43m\"\u001b[39;49m\u001b[43m)\u001b[49m\u001b[43m.\u001b[49m\u001b[43mgetOrCreate\u001b[49m\u001b[43m(\u001b[49m\u001b[43m)\u001b[49m\n\u001b[32m      5\u001b[39m \u001b[38;5;66;03m# try:\u001b[39;00m\n\u001b[32m      6\u001b[39m \u001b[38;5;66;03m#     spark.stop()\u001b[39;00m\n\u001b[32m      7\u001b[39m \u001b[38;5;66;03m# except:\u001b[39;00m\n\u001b[32m      8\u001b[39m \u001b[38;5;66;03m#     pass\u001b[39;00m\n",
      "\u001b[36mFile \u001b[39m\u001b[32m~/.local/lib/python3.12/site-packages/pyspark/sql/session.py:527\u001b[39m, in \u001b[36mSparkSession.Builder.getOrCreate\u001b[39m\u001b[34m(self)\u001b[39m\n\u001b[32m    523\u001b[39m \u001b[38;5;28;01mif\u001b[39;00m url.startswith(\u001b[33m\"\u001b[39m\u001b[33mlocal\u001b[39m\u001b[33m\"\u001b[39m) \u001b[38;5;129;01mor\u001b[39;00m (\n\u001b[32m    524\u001b[39m     is_api_mode_connect \u001b[38;5;129;01mand\u001b[39;00m \u001b[38;5;129;01mnot\u001b[39;00m url.startswith(\u001b[33m\"\u001b[39m\u001b[33msc://\u001b[39m\u001b[33m\"\u001b[39m)\n\u001b[32m    525\u001b[39m ):\n\u001b[32m    526\u001b[39m     os.environ[\u001b[33m\"\u001b[39m\u001b[33mSPARK_LOCAL_REMOTE\u001b[39m\u001b[33m\"\u001b[39m] = \u001b[33m\"\u001b[39m\u001b[33m1\u001b[39m\u001b[33m\"\u001b[39m\n\u001b[32m--> \u001b[39m\u001b[32m527\u001b[39m     \u001b[43mRemoteSparkSession\u001b[49m\u001b[43m.\u001b[49m\u001b[43m_start_connect_server\u001b[49m\u001b[43m(\u001b[49m\u001b[43murl\u001b[49m\u001b[43m,\u001b[49m\u001b[43m \u001b[49m\u001b[43mopts\u001b[49m\u001b[43m)\u001b[49m\n\u001b[32m    528\u001b[39m     url = \u001b[33m\"\u001b[39m\u001b[33msc://localhost\u001b[39m\u001b[33m\"\u001b[39m\n\u001b[32m    530\u001b[39m os.environ[\u001b[33m\"\u001b[39m\u001b[33mSPARK_CONNECT_MODE_ENABLED\u001b[39m\u001b[33m\"\u001b[39m] = \u001b[33m\"\u001b[39m\u001b[33m1\u001b[39m\u001b[33m\"\u001b[39m\n",
      "\u001b[36mFile \u001b[39m\u001b[32m~/.local/lib/python3.12/site-packages/pyspark/sql/connect/session.py:1087\u001b[39m, in \u001b[36mSparkSession._start_connect_server\u001b[39m\u001b[34m(master, opts)\u001b[39m\n\u001b[32m   1085\u001b[39m conf = SparkConf(loadDefaults=\u001b[38;5;28;01mTrue\u001b[39;00m)\n\u001b[32m   1086\u001b[39m conf.setAll(\u001b[38;5;28mlist\u001b[39m(overwrite_conf.items())).setAll(\u001b[38;5;28mlist\u001b[39m(default_conf.items()))\n\u001b[32m-> \u001b[39m\u001b[32m1087\u001b[39m PySparkSession(\u001b[43mSparkContext\u001b[49m\u001b[43m.\u001b[49m\u001b[43mgetOrCreate\u001b[49m\u001b[43m(\u001b[49m\u001b[43mconf\u001b[49m\u001b[43m)\u001b[49m)\n\u001b[32m   1089\u001b[39m \u001b[38;5;66;03m# Lastly only keep runtime configurations because other configurations are\u001b[39;00m\n\u001b[32m   1090\u001b[39m \u001b[38;5;66;03m# disallowed to set in the regular Spark Connect session.\u001b[39;00m\n\u001b[32m   1091\u001b[39m utl = SparkContext._jvm.PythonSQLUtils  \u001b[38;5;66;03m# type: ignore[union-attr]\u001b[39;00m\n",
      "\u001b[36mFile \u001b[39m\u001b[32m~/.local/lib/python3.12/site-packages/pyspark/core/context.py:523\u001b[39m, in \u001b[36mSparkContext.getOrCreate\u001b[39m\u001b[34m(cls, conf)\u001b[39m\n\u001b[32m    521\u001b[39m \u001b[38;5;28;01mwith\u001b[39;00m SparkContext._lock:\n\u001b[32m    522\u001b[39m     \u001b[38;5;28;01mif\u001b[39;00m SparkContext._active_spark_context \u001b[38;5;129;01mis\u001b[39;00m \u001b[38;5;28;01mNone\u001b[39;00m:\n\u001b[32m--> \u001b[39m\u001b[32m523\u001b[39m         \u001b[43mSparkContext\u001b[49m\u001b[43m(\u001b[49m\u001b[43mconf\u001b[49m\u001b[43m=\u001b[49m\u001b[43mconf\u001b[49m\u001b[43m \u001b[49m\u001b[38;5;129;43;01mor\u001b[39;49;00m\u001b[43m \u001b[49m\u001b[43mSparkConf\u001b[49m\u001b[43m(\u001b[49m\u001b[43m)\u001b[49m\u001b[43m)\u001b[49m\n\u001b[32m    524\u001b[39m     \u001b[38;5;28;01massert\u001b[39;00m SparkContext._active_spark_context \u001b[38;5;129;01mis\u001b[39;00m \u001b[38;5;129;01mnot\u001b[39;00m \u001b[38;5;28;01mNone\u001b[39;00m\n\u001b[32m    525\u001b[39m     \u001b[38;5;28;01mreturn\u001b[39;00m SparkContext._active_spark_context\n",
      "\u001b[36mFile \u001b[39m\u001b[32m~/.local/lib/python3.12/site-packages/pyspark/core/context.py:205\u001b[39m, in \u001b[36mSparkContext.__init__\u001b[39m\u001b[34m(self, master, appName, sparkHome, pyFiles, environment, batchSize, serializer, conf, gateway, jsc, profiler_cls, udf_profiler_cls, memory_profiler_cls)\u001b[39m\n\u001b[32m    199\u001b[39m \u001b[38;5;28;01mif\u001b[39;00m gateway \u001b[38;5;129;01mis\u001b[39;00m \u001b[38;5;129;01mnot\u001b[39;00m \u001b[38;5;28;01mNone\u001b[39;00m \u001b[38;5;129;01mand\u001b[39;00m gateway.gateway_parameters.auth_token \u001b[38;5;129;01mis\u001b[39;00m \u001b[38;5;28;01mNone\u001b[39;00m:\n\u001b[32m    200\u001b[39m     \u001b[38;5;28;01mraise\u001b[39;00m \u001b[38;5;167;01mValueError\u001b[39;00m(\n\u001b[32m    201\u001b[39m         \u001b[33m\"\u001b[39m\u001b[33mYou are trying to pass an insecure Py4j gateway to Spark. This\u001b[39m\u001b[33m\"\u001b[39m\n\u001b[32m    202\u001b[39m         \u001b[33m\"\u001b[39m\u001b[33m is not allowed as it is a security risk.\u001b[39m\u001b[33m\"\u001b[39m\n\u001b[32m    203\u001b[39m     )\n\u001b[32m--> \u001b[39m\u001b[32m205\u001b[39m \u001b[43mSparkContext\u001b[49m\u001b[43m.\u001b[49m\u001b[43m_ensure_initialized\u001b[49m\u001b[43m(\u001b[49m\u001b[38;5;28;43mself\u001b[39;49m\u001b[43m,\u001b[49m\u001b[43m \u001b[49m\u001b[43mgateway\u001b[49m\u001b[43m=\u001b[49m\u001b[43mgateway\u001b[49m\u001b[43m,\u001b[49m\u001b[43m \u001b[49m\u001b[43mconf\u001b[49m\u001b[43m=\u001b[49m\u001b[43mconf\u001b[49m\u001b[43m)\u001b[49m\n\u001b[32m    206\u001b[39m \u001b[38;5;28;01mtry\u001b[39;00m:\n\u001b[32m    207\u001b[39m     \u001b[38;5;28mself\u001b[39m._do_init(\n\u001b[32m    208\u001b[39m         master,\n\u001b[32m    209\u001b[39m         appName,\n\u001b[32m   (...)\u001b[39m\u001b[32m    219\u001b[39m         memory_profiler_cls,\n\u001b[32m    220\u001b[39m     )\n",
      "\u001b[36mFile \u001b[39m\u001b[32m~/.local/lib/python3.12/site-packages/pyspark/core/context.py:444\u001b[39m, in \u001b[36mSparkContext._ensure_initialized\u001b[39m\u001b[34m(cls, instance, gateway, conf)\u001b[39m\n\u001b[32m    442\u001b[39m \u001b[38;5;28;01mwith\u001b[39;00m SparkContext._lock:\n\u001b[32m    443\u001b[39m     \u001b[38;5;28;01mif\u001b[39;00m \u001b[38;5;129;01mnot\u001b[39;00m SparkContext._gateway:\n\u001b[32m--> \u001b[39m\u001b[32m444\u001b[39m         SparkContext._gateway = gateway \u001b[38;5;129;01mor\u001b[39;00m \u001b[43mlaunch_gateway\u001b[49m\u001b[43m(\u001b[49m\u001b[43mconf\u001b[49m\u001b[43m)\u001b[49m\n\u001b[32m    445\u001b[39m         SparkContext._jvm = SparkContext._gateway.jvm\n\u001b[32m    447\u001b[39m     \u001b[38;5;28;01mif\u001b[39;00m instance:\n",
      "\u001b[36mFile \u001b[39m\u001b[32m~/.local/lib/python3.12/site-packages/pyspark/java_gateway.py:111\u001b[39m, in \u001b[36mlaunch_gateway\u001b[39m\u001b[34m(conf, popen_kwargs)\u001b[39m\n\u001b[32m    108\u001b[39m     time.sleep(\u001b[32m0.1\u001b[39m)\n\u001b[32m    110\u001b[39m \u001b[38;5;28;01mif\u001b[39;00m \u001b[38;5;129;01mnot\u001b[39;00m os.path.isfile(conn_info_file):\n\u001b[32m--> \u001b[39m\u001b[32m111\u001b[39m     \u001b[38;5;28;01mraise\u001b[39;00m PySparkRuntimeError(\n\u001b[32m    112\u001b[39m         errorClass=\u001b[33m\"\u001b[39m\u001b[33mJAVA_GATEWAY_EXITED\u001b[39m\u001b[33m\"\u001b[39m,\n\u001b[32m    113\u001b[39m         messageParameters={},\n\u001b[32m    114\u001b[39m     )\n\u001b[32m    116\u001b[39m \u001b[38;5;28;01mwith\u001b[39;00m \u001b[38;5;28mopen\u001b[39m(conn_info_file, \u001b[33m\"\u001b[39m\u001b[33mrb\u001b[39m\u001b[33m\"\u001b[39m) \u001b[38;5;28;01mas\u001b[39;00m info:\n\u001b[32m    117\u001b[39m     gateway_port = read_int(info)\n",
      "\u001b[31mPySparkRuntimeError\u001b[39m: [JAVA_GATEWAY_EXITED] Java gateway process exited before sending its port number."
     ]
    }
   ],
   "source": [
    "from pyspark.sql import SparkSession\n",
    "from pyspark.sql.functions import col\n",
    "\n",
    "spark = SparkSession.builder.appName(\"DataFrameLoader\").getOrCreate()\n",
    "# try:\n",
    "#     spark.stop()\n",
    "# except:\n",
    "#     pass"
   ]
  },
  {
   "cell_type": "code",
   "execution_count": null,
   "id": "682f2d1f",
   "metadata": {},
   "outputs": [],
   "source": [
    "import pandas as pd\n",
    "import polars as pl\n",
    "from pyspark.sql import SparkSession\n",
    "from pyspark.sql.functions import col, from_unixtime, year, mean as Fmean\n",
    "import matplotlib.pyplot as plt\n",
    "import time\n",
    "\n",
    "class DataFrameLoader:\n",
    "    def __init__(self, csv_path):\n",
    "        self.csv_path = csv_path\n",
    "        try:\n",
    "            self.spark = SparkSession.builder.appName(\"DataFrameLoader\").getOrCreate()\n",
    "        except:\n",
    "            self.spark = None\n",
    "\n",
    "    def load(self, library='pandas'):\n",
    "        library = library.lower()\n",
    "\n",
    "        if library == 'pandas':\n",
    "            df = pd.read_csv(self.csv_path)\n",
    "            # Keep Timestamp as epoch seconds\n",
    "            return df\n",
    "\n",
    "        elif library == 'polars':\n",
    "            df = pl.read_csv(self.csv_path)\n",
    "            # Keep Timestamp as Int64 (epoch seconds)\n",
    "            if \"Timestamp\" in df.columns and df[\"Timestamp\"].dtype not in [pl.Int64, pl.Float64]:\n",
    "                df = df.with_columns(pl.col(\"Timestamp\").cast(pl.Int64))\n",
    "            return df\n",
    "\n",
    "        elif library == 'pyspark':\n",
    "            if self.spark is None:\n",
    "                raise ValueError(\"Spark session not initialized\")\n",
    "            df = self.spark.read.csv(self.csv_path, header=True, inferSchema=True)\n",
    "            # Keep Timestamp as epoch seconds (LongType)\n",
    "            if \"Timestamp\" in df.columns:\n",
    "                df = df.withColumn(\"Timestamp\", col(\"Timestamp\").cast(\"long\"))\n",
    "            return df\n",
    "\n",
    "        else:\n",
    "            raise ValueError(\"Unsupported library. Choose 'pandas', 'polars', or 'pyspark'.\")\n",
    "\n",
    "    def benchmark(self):\n",
    "        libraries = ['pandas', 'polars', 'pyspark']\n",
    "        timings = {lib: {} for lib in libraries}\n",
    "\n",
    "        for lib in libraries:\n",
    "            start = time.time()\n",
    "            df = self.load(lib)\n",
    "            timings[lib]['read'] = time.time() - start\n",
    "\n",
    "            start = time.time()\n",
    "            if lib == 'pyspark':\n",
    "                df.show(5, truncate=False)\n",
    "            else:\n",
    "                df.head()\n",
    "            timings[lib]['head'] = time.time() - start\n",
    "\n",
    "            start = time.time()\n",
    "            if lib == 'pandas':\n",
    "                _ = df[df['Close'] > 50000]\n",
    "            elif lib == 'polars':\n",
    "                _ = df.filter(pl.col(\"Close\") > 50000)\n",
    "            elif lib == 'pyspark':\n",
    "                _ = df.filter(df[\"Close\"] > 50000).count()\n",
    "            timings[lib]['filter'] = time.time() - start\n",
    "\n",
    "            start = time.time()\n",
    "            # ---------- GroupBy Year ----------\n",
    "            if 'Timestamp' in df.columns:\n",
    "                if lib == 'pandas':\n",
    "                    # convert epoch to year on the fly\n",
    "                    df['Year'] = pd.to_datetime(df['Timestamp'], unit='s').dt.year\n",
    "                    _ = df.groupby('Year')['Close'].mean()\n",
    "                elif lib == 'polars':\n",
    "                    df = df.with_columns(\n",
    "                        ((pl.col(\"Timestamp\") / 31556952 + 1970).cast(pl.Int64)).alias(\"Year\")\n",
    "                    )  # rough approximation: seconds in a year\n",
    "                    _ = df.group_by(\"Year\").agg(pl.mean(\"Close\"))\n",
    "                elif lib == 'pyspark':\n",
    "                    df = df.withColumn(\"Year\", year(from_unixtime(col(\"Timestamp\"))))\n",
    "                    _ = df.groupBy(\"Year\").agg(Fmean(\"Close\"))\n",
    "            timings[lib]['groupby_mean'] = time.time() - start\n",
    "\n",
    "        # ---------- Plot ----------\n",
    "        ops = ['read', 'head', 'filter', 'groupby_mean']\n",
    "        x = range(len(libraries))\n",
    "        plt.figure(figsize=(12,6))\n",
    "\n",
    "        for idx, op in enumerate(ops):\n",
    "            times = [timings[lib][op] for lib in libraries]\n",
    "            plt.bar([i + idx*0.2 for i in x], times, width=0.2, label=op)\n",
    "\n",
    "        plt.xticks([i + 0.3 for i in x], libraries)\n",
    "        plt.ylabel('Time (seconds)')\n",
    "        plt.title('CSV Benchmark: Pandas vs Polars vs PySpark (Epoch Timestamp)')\n",
    "        plt.legend()\n",
    "        plt.show()\n",
    "\n",
    "        return timings\n",
    "\n",
    "# LOAD AND BENCHMARK\n",
    "csv_file_path = \"btcusd_1-min_data.csv\"\n",
    "loader = DataFrameLoader(csv_file_path)\n"
   ]
  },
  {
   "cell_type": "markdown",
   "id": "a1bb675b",
   "metadata": {},
   "source": [
    "#### It can be seen that for a dataset size of approx 350MB, the overhead of pyspark is not justified and leads to worse comparision compared to Polars and even Pandas"
   ]
  },
  {
   "cell_type": "code",
   "execution_count": null,
   "id": "83570729",
   "metadata": {},
   "outputs": [
    {
     "name": "stderr",
     "output_type": "stream",
     "text": [
      "                                                                                \r"
     ]
    },
    {
     "name": "stdout",
     "output_type": "stream",
     "text": [
      "+----------+----+----+----+-----+------+\n",
      "|Timestamp |Open|High|Low |Close|Volume|\n",
      "+----------+----+----+----+-----+------+\n",
      "|1325412060|4.58|4.58|4.58|4.58 |0.0   |\n",
      "|1325412120|4.58|4.58|4.58|4.58 |0.0   |\n",
      "|1325412180|4.58|4.58|4.58|4.58 |0.0   |\n",
      "|1325412240|4.58|4.58|4.58|4.58 |0.0   |\n",
      "|1325412300|4.58|4.58|4.58|4.58 |0.0   |\n",
      "+----------+----+----+----+-----+------+\n",
      "only showing top 5 rows\n"
     ]
    },
    {
     "name": "stderr",
     "output_type": "stream",
     "text": [
      "[Stage 21:======================================>                   (2 + 1) / 3]\r"
     ]
    },
    {
     "data": {
      "image/png": "[encoded data removed]",
      "text/plain": [
       "<Figure size 1200x600 with 1 Axes>"
      ]
     },
     "metadata": {},
     "output_type": "display_data"
    },
    {
     "name": "stdout",
     "output_type": "stream",
     "text": [
      "Benchmark results (in seconds):\n",
      "pandas {'read': 2.9465601444244385, 'head': 0.00018596649169921875, 'filter': 0.03913307189941406, 'groupby_mean': 2.677454948425293}\n",
      "polars {'read': 0.41265392303466797, 'head': 6.389617919921875e-05, 'filter': 0.007007122039794922, 'groupby_mean': 0.03651690483093262}\n",
      "pyspark {'read': 10.807034015655518, 'head': 0.07787418365478516, 'filter': 5.950787782669067, 'groupby_mean': 0.006757259368896484}\n"
     ]
    }
   ],
   "source": [
    "# BENCHMARK\n",
    "benchmark_results = loader.benchmark()\n",
    "print(\"Benchmark results (in seconds):\")\n",
    "for lib, results in benchmark_results.items():\n",
    "    print(lib, results)"
   ]
  },
  {
   "cell_type": "code",
   "execution_count": 2,
   "id": "e75a1752",
   "metadata": {},
   "outputs": [
    {
     "name": "stdout",
     "output_type": "stream",
     "text": [
      "Defaulting to user installation because normal site-packages is not writeable\n",
      "Collecting polars\n",
      "  Downloading polars-1.33.0-cp39-abi3-manylinux_2_24_aarch64.whl.metadata (15 kB)\n",
      "Downloading polars-1.33.0-cp39-abi3-manylinux_2_24_aarch64.whl (36.3 MB)\n",
      "\u001b[2K   \u001b[90m━━━━━━━━━━━━━━━━━━━━━━━━━━━━━━━━━━━━━━━━\u001b[0m \u001b[32m36.3/36.3 MB\u001b[0m \u001b[31m5.7 MB/s\u001b[0m  \u001b[33m0:00:06\u001b[0mm0:00:01\u001b[0m00:01\u001b[0mm\n",
      "\u001b[?25hInstalling collected packages: polars\n",
      "Successfully installed polars-1.33.0\n",
      "Defaulting to user installation because normal site-packages is not writeable\n",
      "Collecting matplotlib\n",
      "  Downloading matplotlib-3.10.6-cp312-cp312-manylinux_2_27_aarch64.manylinux_2_28_aarch64.whl.metadata (11 kB)\n",
      "Collecting contourpy>=1.0.1 (from matplotlib)\n",
      "  Downloading contourpy-1.3.3-cp312-cp312-manylinux_2_26_aarch64.manylinux_2_28_aarch64.whl.metadata (5.5 kB)\n",
      "Collecting cycler>=0.10 (from matplotlib)\n",
      "  Downloading cycler-0.12.1-py3-none-any.whl.metadata (3.8 kB)\n",
      "Collecting fonttools>=4.22.0 (from matplotlib)\n",
      "  Downloading fonttools-4.59.2-cp312-cp312-manylinux2014_aarch64.manylinux_2_17_aarch64.manylinux_2_28_aarch64.whl.metadata (109 kB)\n",
      "Collecting kiwisolver>=1.3.1 (from matplotlib)\n",
      "  Downloading kiwisolver-1.4.9-cp312-cp312-manylinux_2_24_aarch64.manylinux_2_28_aarch64.whl.metadata (6.3 kB)\n",
      "Collecting numpy>=1.23 (from matplotlib)\n",
      "  Downloading numpy-2.3.2-cp312-cp312-manylinux_2_27_aarch64.manylinux_2_28_aarch64.whl.metadata (62 kB)\n",
      "Requirement already satisfied: packaging>=20.0 in /home/vscode/.local/lib/python3.12/site-packages (from matplotlib) (25.0)\n",
      "Collecting pillow>=8 (from matplotlib)\n",
      "  Downloading pillow-11.3.0-cp312-cp312-manylinux_2_27_aarch64.manylinux_2_28_aarch64.whl.metadata (9.0 kB)\n",
      "Collecting pyparsing>=2.3.1 (from matplotlib)\n",
      "  Downloading pyparsing-3.2.3-py3-none-any.whl.metadata (5.0 kB)\n",
      "Requirement already satisfied: python-dateutil>=2.7 in /home/vscode/.local/lib/python3.12/site-packages (from matplotlib) (2.9.0.post0)\n",
      "Requirement already satisfied: six>=1.5 in /home/vscode/.local/lib/python3.12/site-packages (from python-dateutil>=2.7->matplotlib) (1.17.0)\n",
      "Downloading matplotlib-3.10.6-cp312-cp312-manylinux_2_27_aarch64.manylinux_2_28_aarch64.whl (9.5 MB)\n",
      "\u001b[2K   \u001b[90m━━━━━━━━━━━━━━━━━━━━━━━━━━━━━━━━━━━━━━━━\u001b[0m \u001b[32m9.5/9.5 MB\u001b[0m \u001b[31m11.4 MB/s\u001b[0m  \u001b[33m0:00:00\u001b[0mm0:00:01\u001b[0m0:01\u001b[0mm\n",
      "\u001b[?25hDownloading contourpy-1.3.3-cp312-cp312-manylinux_2_26_aarch64.manylinux_2_28_aarch64.whl (332 kB)\n",
      "Downloading cycler-0.12.1-py3-none-any.whl (8.3 kB)\n",
      "Downloading fonttools-4.59.2-cp312-cp312-manylinux2014_aarch64.manylinux_2_17_aarch64.manylinux_2_28_aarch64.whl (5.0 MB)\n",
      "\u001b[2K   \u001b[90m━━━━━━━━━━━━━━━━━━━━━━━━━━━━━━━━━━━━━━━━\u001b[0m \u001b[32m5.0/5.0 MB\u001b[0m \u001b[31m12.8 MB/s\u001b[0m  \u001b[33m0:00:00\u001b[0m eta \u001b[36m0:00:01\u001b[0m\n",
      "\u001b[?25hDownloading kiwisolver-1.4.9-cp312-cp312-manylinux_2_24_aarch64.manylinux_2_28_aarch64.whl (1.3 MB)\n",
      "\u001b[2K   \u001b[90m━━━━━━━━━━━━━━━━━━━━━━━━━━━━━━━━━━━━━━━━\u001b[0m \u001b[32m1.3/1.3 MB\u001b[0m \u001b[31m12.1 MB/s\u001b[0m  \u001b[33m0:00:00\u001b[0m\n",
      "\u001b[?25hDownloading numpy-2.3.2-cp312-cp312-manylinux_2_27_aarch64.manylinux_2_28_aarch64.whl (14.3 MB)\n",
      "\u001b[2K   \u001b[90m━━━━━━━━━━━━━━━━━━━━━━━━━━━━━━━━━━━━━━━━\u001b[0m \u001b[32m14.3/14.3 MB\u001b[0m \u001b[31m8.5 MB/s\u001b[0m  \u001b[33m0:00:01\u001b[0mm0:00:01\u001b[0m00:01\u001b[0m\n",
      "\u001b[?25hDownloading pillow-11.3.0-cp312-cp312-manylinux_2_27_aarch64.manylinux_2_28_aarch64.whl (6.0 MB)\n",
      "\u001b[2K   \u001b[90m━━━━━━━━━━━━━━━━━━━━━━━━━━━━━━━━━━━━━━━━\u001b[0m \u001b[32m6.0/6.0 MB\u001b[0m \u001b[31m8.8 MB/s\u001b[0m  \u001b[33m0:00:00\u001b[0m eta \u001b[36m0:00:01\u001b[0mm\n",
      "\u001b[?25hDownloading pyparsing-3.2.3-py3-none-any.whl (111 kB)\n",
      "Installing collected packages: pyparsing, pillow, numpy, kiwisolver, fonttools, cycler, contourpy, matplotlib\n",
      "\u001b[2K   \u001b[90m━━━━━━━━━━━━━━━━━━━━━━━━━━━━━━━━━━━━━━━━\u001b[0m \u001b[32m8/8\u001b[0m [matplotlib]8\u001b[0m [matplotlib]\n",
      "\u001b[1A\u001b[2KSuccessfully installed contourpy-1.3.3 cycler-0.12.1 fonttools-4.59.2 kiwisolver-1.4.9 matplotlib-3.10.6 numpy-2.3.2 pillow-11.3.0 pyparsing-3.2.3\n",
      "Defaulting to user installation because normal site-packages is not writeable\n",
      "Requirement already satisfied: numpy in /home/vscode/.local/lib/python3.12/site-packages (2.3.2)\n",
      "Defaulting to user installation because normal site-packages is not writeable\n",
      "Collecting seaborn\n",
      "  Downloading seaborn-0.13.2-py3-none-any.whl.metadata (5.4 kB)\n",
      "Requirement already satisfied: numpy!=1.24.0,>=1.20 in /home/vscode/.local/lib/python3.12/site-packages (from seaborn) (2.3.2)\n",
      "Collecting pandas>=1.2 (from seaborn)\n",
      "  Downloading pandas-2.3.2-cp312-cp312-manylinux_2_17_aarch64.manylinux2014_aarch64.whl.metadata (91 kB)\n",
      "Requirement already satisfied: matplotlib!=3.6.1,>=3.4 in /home/vscode/.local/lib/python3.12/site-packages (from seaborn) (3.10.6)\n",
      "Requirement already satisfied: contourpy>=1.0.1 in /home/vscode/.local/lib/python3.12/site-packages (from matplotlib!=3.6.1,>=3.4->seaborn) (1.3.3)\n",
      "Requirement already satisfied: cycler>=0.10 in /home/vscode/.local/lib/python3.12/site-packages (from matplotlib!=3.6.1,>=3.4->seaborn) (0.12.1)\n",
      "Requirement already satisfied: fonttools>=4.22.0 in /home/vscode/.local/lib/python3.12/site-packages (from matplotlib!=3.6.1,>=3.4->seaborn) (4.59.2)\n",
      "Requirement already satisfied: kiwisolver>=1.3.1 in /home/vscode/.local/lib/python3.12/site-packages (from matplotlib!=3.6.1,>=3.4->seaborn) (1.4.9)\n",
      "Requirement already satisfied: packaging>=20.0 in /home/vscode/.local/lib/python3.12/site-packages (from matplotlib!=3.6.1,>=3.4->seaborn) (25.0)\n",
      "Requirement already satisfied: pillow>=8 in /home/vscode/.local/lib/python3.12/site-packages (from matplotlib!=3.6.1,>=3.4->seaborn) (11.3.0)\n",
      "Requirement already satisfied: pyparsing>=2.3.1 in /home/vscode/.local/lib/python3.12/site-packages (from matplotlib!=3.6.1,>=3.4->seaborn) (3.2.3)\n",
      "Requirement already satisfied: python-dateutil>=2.7 in /home/vscode/.local/lib/python3.12/site-packages (from matplotlib!=3.6.1,>=3.4->seaborn) (2.9.0.post0)\n",
      "Collecting pytz>=2020.1 (from pandas>=1.2->seaborn)\n",
      "  Downloading pytz-2025.2-py2.py3-none-any.whl.metadata (22 kB)\n",
      "Collecting tzdata>=2022.7 (from pandas>=1.2->seaborn)\n",
      "  Downloading tzdata-2025.2-py2.py3-none-any.whl.metadata (1.4 kB)\n",
      "Requirement already satisfied: six>=1.5 in /home/vscode/.local/lib/python3.12/site-packages (from python-dateutil>=2.7->matplotlib!=3.6.1,>=3.4->seaborn) (1.17.0)\n",
      "Downloading seaborn-0.13.2-py3-none-any.whl (294 kB)\n",
      "Downloading pandas-2.3.2-cp312-cp312-manylinux_2_17_aarch64.manylinux2014_aarch64.whl (11.3 MB)\n",
      "\u001b[2K   \u001b[90m━━━━━━━━━━━━━━━━━━━━━━━━━━━━━━━━━━━━━━━━\u001b[0m \u001b[32m11.3/11.3 MB\u001b[0m \u001b[31m7.8 MB/s\u001b[0m  \u001b[33m0:00:01\u001b[0mm0:00:01\u001b[0m0:01\u001b[0mm\n",
      "\u001b[?25hDownloading pytz-2025.2-py2.py3-none-any.whl (509 kB)\n",
      "Downloading tzdata-2025.2-py2.py3-none-any.whl (347 kB)\n",
      "Installing collected packages: pytz, tzdata, pandas, seaborn\n",
      "\u001b[2K   \u001b[90m━━━━━━━━━━━━━━━━━━━━━━━━━━━━━━━━━━━━━━━━\u001b[0m \u001b[32m4/4\u001b[0m [seaborn]m3/4\u001b[0m [seaborn]\n",
      "\u001b[1A\u001b[2KSuccessfully installed pandas-2.3.2 pytz-2025.2 seaborn-0.13.2 tzdata-2025.2\n"
     ]
    }
   ],
   "source": [
    "!pip install polars\n",
    "!pip install matplotlib\n",
    "!pip install numpy\n",
    "!pip install seaborn"
   ]
  },
  {
   "cell_type": "markdown",
   "id": "f8c59e19",
   "metadata": {},
   "source": [
    "# Exploratory Data Analysis"
   ]
  },
  {
   "cell_type": "code",
   "execution_count": null,
   "id": "f47702ce",
   "metadata": {},
   "outputs": [],
   "source": [
    "import polars as pl\n",
    "import matplotlib.pyplot as plt\n",
    "import seaborn as sns\n",
    "import numpy as np\n",
    "\n",
    "# ------------------------\n",
    "# 1. Load dataset\n",
    "# ------------------------\n",
    "df = loader.load('polars')\n",
    "\n",
    "# Detect dtype\n",
    "print(df[\"Timestamp\"][-1])\n",
    "\n",
    "df = df.with_columns([\n",
    "    (pl.col(\"Timestamp\") * 1000).cast(pl.Datetime(\"ms\")).alias(\"Timestamp_dt\")\n",
    "])\n",
    "\n",
    "# ------------------------\n",
    "# 2. Basic overview\n",
    "# ------------------------\n",
    "print(\"Data shape:\", df.shape)\n",
    "print(df.describe())\n"
   ]
  },
  {
   "cell_type": "code",
   "execution_count": null,
   "id": "b34437f1",
   "metadata": {},
   "outputs": [],
   "source": [
    "# ------------------------\n",
    "# 3. Price Trend Over Time\n",
    "# ------------------------\n",
    "plt.figure(figsize=(15,5))\n",
    "plt.plot(df[\"Timestamp_dt\"].to_numpy(), df[\"Close\"].to_numpy(), label=\"Close Price\", color=\"blue\")\n",
    "plt.plot(df[\"Timestamp_dt\"].to_numpy(), df[\"Open\"].to_numpy(), label=\"Open Price\", color=\"orange\", alpha=0.7)\n",
    "plt.xlabel(\"Time\")\n",
    "plt.ylabel(\"Price (USD)\")\n",
    "plt.title(\"Bitcoin Price Trend\")\n",
    "plt.legend()\n",
    "plt.show()\n",
    "\n",
    "# ------------------------\n",
    "# Filter for last one hour to observe trend better\n",
    "# ------------------------\n",
    "two_years_seconds = 3600  # 1 hour in seconds\n",
    "window_time = df[\"Timestamp\"].max()\n",
    "\n",
    "df_recent = df.filter(pl.col(\"Timestamp\") > (window_time - two_years_seconds))\n",
    "\n",
    "plt.figure(figsize=(15,5))\n",
    "plt.plot(df_recent[\"Timestamp_dt\"].to_numpy(), df_recent[\"Close\"].to_numpy(), label=\"Close Price\", color=\"blue\")\n",
    "plt.plot(df_recent[\"Timestamp_dt\"].to_numpy(), df_recent[\"Open\"].to_numpy(), label=\"Open Price\", color=\"orange\", alpha=0.7)\n",
    "plt.xlabel(\"Time\")\n",
    "plt.ylabel(\"Price (USD)\")\n",
    "plt.title(\"Bitcoin Price Trend (Last One Hour)\")\n",
    "plt.legend()\n",
    "plt.show()"
   ]
  },
  {
   "cell_type": "code",
   "execution_count": null,
   "id": "a40d427e",
   "metadata": {},
   "outputs": [],
   "source": [
    "# ------------------------\n",
    "# 4. Volume Trend Over Time\n",
    "# ------------------------\n",
    "plt.figure(figsize=(15,5))\n",
    "plt.plot(df[\"Timestamp_dt\"].to_numpy(), df[\"Volume\"].to_numpy(), color=\"green\", alpha=0.6)\n",
    "plt.xlabel(\"Time\")\n",
    "plt.ylabel(\"Volume (BTC)\")\n",
    "plt.title(\"Bitcoin Trading Volume (Line Plot)\")\n",
    "plt.show()"
   ]
  },
  {
   "cell_type": "code",
   "execution_count": null,
   "id": "b6409c03",
   "metadata": {},
   "outputs": [],
   "source": [
    "\n",
    "# ------------------------\n",
    "# 5. Returns & Distribution\n",
    "# ------------------------\n",
    "df = df.with_columns([\n",
    "    (pl.col(\"Close\").pct_change()).alias(\"returns\")\n",
    "])\n",
    "returns = df[\"returns\"].to_numpy()\n",
    "\n",
    "plt.figure(figsize=(10,5))\n",
    "sns.histplot(returns, bins=100, kde=True, color=\"purple\")\n",
    "plt.title(\"Distribution of Returns\")\n",
    "plt.xlabel(\"Returns\")\n",
    "plt.ylabel(\"Frequency\")\n",
    "plt.show()\n"
   ]
  },
  {
   "cell_type": "code",
   "execution_count": null,
   "id": "54c82af9",
   "metadata": {},
   "outputs": [],
   "source": [
    "# ------------------------\n",
    "# 6. Rolling Volatility\n",
    "# ------------------------\n",
    "df = df.with_columns([\n",
    "    pl.col(\"returns\").rolling_std(60).alias(\"volatility_60s\")  # 60-second rolling window\n",
    "])\n",
    "plt.figure(figsize=(15,5))\n",
    "plt.plot(df[\"Timestamp_dt\"].to_numpy(), df[\"volatility_60s\"].to_numpy(), color=\"red\")\n",
    "plt.title(\"Rolling 60s Volatility\")\n",
    "plt.xlabel(\"Time\")\n",
    "plt.ylabel(\"Volatility\")\n",
    "plt.show()"
   ]
  },
  {
   "cell_type": "code",
   "execution_count": null,
   "id": "a6cab620",
   "metadata": {},
   "outputs": [],
   "source": [
    "# ------------------------\n",
    "# 7. Correlation Heatmap\n",
    "# ------------------------\n",
    "df_pandas = df.to_pandas()\n",
    "numeric_cols = [\"Open\",\"High\",\"Low\",\"Close\",\"Volume\",\"returns\"]\n",
    "corr = df_pandas[numeric_cols].corr()\n",
    "\n",
    "plt.figure(figsize=(8,6))\n",
    "sns.heatmap(corr, annot=True, cmap=\"coolwarm\", fmt=\".2f\")\n",
    "plt.title(\"Correlation Heatmap\")\n",
    "plt.show()"
   ]
  },
  {
   "cell_type": "code",
   "execution_count": null,
   "id": "58ac289f",
   "metadata": {},
   "outputs": [],
   "source": [
    "# ------------------------\n",
    "# 8. Candlestick Preview\n",
    "# ------------------------\n",
    "import mplfinance as mpf\n",
    "\n",
    "rows = 50\n",
    "# Convert last rows to Pandas\n",
    "df_candle_pd = df.sort(\"Timestamp_dt\", descending=True).head(rows).to_pandas()\n",
    "\n",
    "# Set index for mplfinance\n",
    "df_candle_pd.set_index(\"Timestamp_dt\", inplace=True)\n",
    "\n",
    "# Plot candlestick\n",
    "mpf.plot(\n",
    "    df_candle_pd,\n",
    "    type=\"candle\",\n",
    "    volume=True,\n",
    "    style=\"charles\",\n",
    "    title=f\"Last {rows} Candles\"\n",
    ")"
   ]
  },
  {
   "cell_type": "markdown",
   "id": "ff1443c7",
   "metadata": {},
   "source": [
    "# Feature Engineering"
   ]
  },
  {
   "cell_type": "markdown",
   "id": "c6386ae0",
   "metadata": {},
   "source": [
    "df = loader.load('polars')"
   ]
  },
  {
   "cell_type": "code",
   "execution_count": null,
   "id": "18e825b2",
   "metadata": {},
   "outputs": [],
   "source": [
    "df = df.with_columns([\n",
    "    (pl.col(\"Close\") / pl.col(\"Close\").shift(1) - 1).alias(\"return\"),\n",
    "    (pl.col(\"High\") - pl.col(\"Low\")).alias(\"high_low_spread\"),\n",
    "    (pl.col(\"Close\") - pl.col(\"Open\")).alias(\"open_close_diff\"),\n",
    "    (pl.col(\"Close\") - pl.col(\"Open\")).abs().alias(\"candle_body\"),\n",
    "    (pl.col(\"High\") - pl.concat_list([pl.col(\"Close\"), pl.col(\"Open\")]).max().over(\"Close\")).alias(\"candle_upper_shadow\"),\n",
    "    (pl.concat_list([pl.col(\"Close\"), pl.col(\"Open\")]).min().over(\"Close\") - pl.col(\"Low\")).alias(\"candle_lower_shadow\")\n",
    "])\n",
    "df.tail(10).to_pandas()"
   ]
  },
  {
   "cell_type": "code",
   "execution_count": null,
   "id": "494c6fd9",
   "metadata": {},
   "outputs": [],
   "source": [
    "\n",
    "# Lag features\n",
    "lags = [1, 2, 3, 5, 10]\n",
    "for lag in lags:\n",
    "    df = df.with_columns([\n",
    "        pl.col(\"Close\").shift(lag).alias(f\"Close_lag_{lag}\"),\n",
    "        pl.col(\"Volume\").shift(lag).alias(f\"Volume_lag_{lag}\")\n",
    "    ])\n",
    "df.tail(10).to_pandas()"
   ]
  },
  {
   "cell_type": "code",
   "execution_count": null,
   "id": "a0eec0f1",
   "metadata": {},
   "outputs": [],
   "source": [
    "\n",
    "# Rolling features (shifted to prevent leakage)\n",
    "df = df.with_columns([\n",
    "    pl.col(\"Close\").rolling_mean(5).shift(1).alias(\"SMA_5\"),\n",
    "    pl.col(\"Close\").rolling_mean(10).shift(1).alias(\"SMA_10\"),\n",
    "    pl.col(\"Close\").ewm_mean(alpha=2/(5+1)).shift(1).alias(\"EMA_5\"),\n",
    "    pl.col(\"Close\").ewm_mean(alpha=2/(10+1)).shift(1).alias(\"EMA_10\"),\n",
    "    (pl.col(\"Close\").rolling_std(5).shift(1)).alias(\"volatility_5\"),\n",
    "    (pl.col(\"Close\").rolling_std(10).shift(1)).alias(\"volatility_10\"),\n",
    "    (pl.col(\"High\") - pl.col(\"Low\")).alias(\"tr\"),\n",
    "    (pl.col(\"High\") - pl.col(\"Low\")).rolling_mean(5).shift(1).alias(\"ATR_5\"),\n",
    "    (pl.col(\"Volume\").pct_change().shift(1)).alias(\"volume_change\"),\n",
    "    (pl.col(\"Volume\").rolling_mean(5).shift(1)).alias(\"vol_ma_5\"),\n",
    "    (pl.col(\"Volume\").rolling_mean(10).shift(1)).alias(\"vol_ma_10\"),\n",
    "])\n",
    "df.tail(10).to_pandas()"
   ]
  },
  {
   "cell_type": "code",
   "execution_count": null,
   "id": "1138d285",
   "metadata": {},
   "outputs": [],
   "source": [
    "# RSI 14 \n",
    "\n",
    "# Calculate delta\n",
    "df = df.with_columns([\n",
    "    (pl.col(\"Close\").diff().alias(\"delta\"))\n",
    "])\n",
    "\n",
    "# Compute gain and loss\n",
    "df = df.with_columns([\n",
    "    pl.when(pl.col(\"delta\") > 0).then(pl.col(\"delta\")).otherwise(0).alias(\"gain\"),\n",
    "    pl.when(pl.col(\"delta\") < 0).then(-pl.col(\"delta\")).otherwise(0).alias(\"loss\")\n",
    "])\n",
    "\n",
    "# Compute rolling average of gain/loss (14 periods), shifted by 1 to prevent leakage\n",
    "df = df.with_columns([\n",
    "    pl.col(\"gain\").rolling_mean(window_size=14, min_periods=1).shift(1).alias(\"avg_gain\"),\n",
    "    pl.col(\"loss\").rolling_mean(window_size=14, min_periods=1).shift(1).alias(\"avg_loss\")\n",
    "])\n",
    "\n",
    "# Compute RSI\n",
    "df = df.with_columns([\n",
    "    (100 - 100 / (1 + (pl.col(\"avg_gain\") / pl.col(\"avg_loss\")))).alias(\"RSI_14\")\n",
    "])\n",
    "df.tail(10).to_pandas()"
   ]
  },
  {
   "cell_type": "code",
   "execution_count": null,
   "id": "3f12e394",
   "metadata": {},
   "outputs": [],
   "source": [
    "\n",
    "# MACD\n",
    "ema_12 = df[\"Close\"].ewm_mean(alpha=2/(12+1)).shift(1)\n",
    "ema_26 = df[\"Close\"].ewm_mean(alpha=2/(26+1)).shift(1)\n",
    "macd = ema_12 - ema_26\n",
    "macd_signal = macd.ewm_mean(alpha=2/(9+1)).shift(1)\n",
    "df = df.with_columns([\n",
    "    macd.alias(\"MACD\"),\n",
    "    macd_signal.alias(\"MACD_signal\")\n",
    "])\n",
    "df.tail(10).to_pandas()"
   ]
  },
  {
   "cell_type": "code",
   "execution_count": null,
   "id": "fc57478b",
   "metadata": {},
   "outputs": [],
   "source": [
    "# Bollinger Bands\n",
    "bb_mid = df[\"Close\"].rolling_mean(20).shift(1)\n",
    "bb_std = df[\"Close\"].rolling_std(20).shift(1)\n",
    "df = df.with_columns([\n",
    "    bb_mid.alias(\"BB_mid\"),\n",
    "    bb_std.alias(\"BB_std\"),\n",
    "    (bb_mid + 2*bb_std).alias(\"BB_upper\"),\n",
    "    (bb_mid - 2*bb_std).alias(\"BB_lower\")\n",
    "])\n",
    "df.tail(10).to_pandas()\n"
   ]
  },
  {
   "cell_type": "markdown",
   "id": "6b9da0b3",
   "metadata": {},
   "source": [
    "# Train / Test Split"
   ]
  },
  {
   "cell_type": "code",
   "execution_count": null,
   "id": "5d8e7bb4",
   "metadata": {},
   "outputs": [],
   "source": [
    "df = df.with_columns([ df[\"Close\"].shift(-1).alias(\"target\") ]) \n",
    "\n",
    "original_rows = df.height\n",
    "\n",
    "# Filter nulls\n",
    "essential_features = [\"Close\", \"Open\", \"High\", \"Low\", \"Volume\"]\n",
    "mask = pl.col(essential_features[0]).is_not_null()\n",
    "for col in essential_features[1:]:\n",
    "    mask = mask & pl.col(col).is_not_null()\n",
    "df_filtered = df.filter(mask & pl.col(\"target\").is_not_null())\n",
    "\n",
    "filtered_rows = df_filtered.height\n",
    "print(\"Rows dropped:\", original_rows - filtered_rows)\n"
   ]
  },
  {
   "cell_type": "code",
   "execution_count": null,
   "id": "ff1028e2",
   "metadata": {},
   "outputs": [],
   "source": [
    "feature_cols = [col for col in df.columns if col not in [\"Timestamp\", \"target\"]] \n",
    "X = df.select(feature_cols).to_numpy() \n",
    "y = df[\"target\"].to_numpy() \n",
    "train_size = int(len(df) * 0.8) \n",
    "X_train, X_test = X[:train_size], X[train_size:] \n",
    "y_train, y_test = y[:train_size], y[train_size:]\n",
    "\n",
    "X_train.shape, X_test.shape, y_train.shape, y_test.shape"
   ]
  },
  {
   "cell_type": "markdown",
   "id": "4716567a",
   "metadata": {},
   "source": [
    "# Scaling"
   ]
  },
  {
   "cell_type": "code",
   "execution_count": null,
   "id": "7d417766",
   "metadata": {},
   "outputs": [],
   "source": [
    "import numpy as np\n",
    "\n",
    "# Ensure numeric type (float64)\n",
    "X_train = X_train.astype(np.float64, copy=False)\n",
    "X_test  = X_test.astype(np.float64, copy=False)\n",
    "\n",
    "# Clean inplace\n",
    "X_train = np.nan_to_num(X_train, nan=0.0, posinf=0.0, neginf=0.0)\n",
    "X_test  = np.nan_to_num(X_test,  nan=0.0, posinf=0.0, neginf=0.0)\n",
    "\n",
    "# Verify\n",
    "print(\"NaNs in X_train:\", np.isnan(X_train).sum())\n",
    "print(\"Infs in X_train:\", np.isinf(X_train).sum())\n",
    "print(\"dtype:\", X_train.dtype)\n"
   ]
  },
  {
   "cell_type": "code",
   "execution_count": null,
   "id": "095ce949",
   "metadata": {},
   "outputs": [],
   "source": [
    "from sklearn.preprocessing import StandardScaler \n",
    "from sklearn.metrics import mean_squared_error \n",
    "import matplotlib.pyplot as plt\n",
    "\n",
    "scaler = StandardScaler() \n",
    "X_train_scaled = scaler.fit_transform(X_train) \n",
    "X_test_scaled = scaler.transform(X_test)"
   ]
  },
  {
   "cell_type": "markdown",
   "id": "ae3e2cd0",
   "metadata": {},
   "source": [
    "# Principal Component Analysis (PCA)"
   ]
  },
  {
   "cell_type": "code",
   "execution_count": null,
   "id": "b64535e4",
   "metadata": {},
   "outputs": [],
   "source": [
    "from sklearn.decomposition import PCA \n",
    "pca = PCA(n_components=0.95) \n",
    "X_train_pca = pca.fit_transform(X_train_scaled) \n",
    "X_test_pca = pca.transform(X_test_scaled) \n",
    "print(\"Original features:\", X_train.shape[1]) \n",
    "print(\"PCA features:\", X_train_pca.shape[1])"
   ]
  },
  {
   "cell_type": "code",
   "execution_count": null,
   "id": "f74447a3",
   "metadata": {},
   "outputs": [],
   "source": [
    "import matplotlib.pyplot as plt\n",
    "import numpy as np\n",
    "\n",
    "# Explained variance ratio\n",
    "explained_var = pca.explained_variance_ratio_\n",
    "cumulative_var = np.cumsum(explained_var)\n",
    "\n",
    "plt.figure(figsize=(14,5))\n",
    "\n",
    "# 1. Scree plot\n",
    "plt.subplot(1,2,1)\n",
    "plt.plot(range(1, len(explained_var)+1), explained_var, marker='o')\n",
    "plt.title(\"Explained Variance Ratio per Principal Component\")\n",
    "plt.xlabel(\"Principal Component\")\n",
    "plt.ylabel(\"Explained Variance Ratio\")\n",
    "\n",
    "# 2. Cumulative explained variance\n",
    "plt.subplot(1,2,2)\n",
    "plt.plot(range(1, len(cumulative_var)+1), cumulative_var, marker='o', color=\"orange\")\n",
    "plt.axhline(y=0.95, color='r', linestyle='--', label='95% threshold')\n",
    "plt.title(\"Cumulative Explained Variance\")\n",
    "plt.xlabel(\"Number of Principal Components\")\n",
    "plt.ylabel(\"Cumulative Explained Variance\")\n",
    "plt.legend()\n",
    "\n",
    "plt.tight_layout()\n",
    "plt.show()\n"
   ]
  },
  {
   "cell_type": "markdown",
   "id": "2d5867c7",
   "metadata": {},
   "source": [
    "# 7. Train Random Forest"
   ]
  },
  {
   "cell_type": "code",
   "execution_count": null,
   "id": "64a2f6aa",
   "metadata": {},
   "outputs": [],
   "source": [
    "from sklearn.ensemble import RandomForestRegressor\n",
    "\n",
    "# Take a subset of the training data\n",
    "# Pick Latest 50000 rows for training -> Approx Last 1/3 month data \n",
    "\n",
    "subset_size = 500000\n",
    "X_train_subset = X_train_pca[-subset_size:]\n",
    "y_train_subset = y_train[-subset_size:]\n",
    "\n",
    "rf_model = RandomForestRegressor(\n",
    "    n_estimators=100,    # fewer trees for a quick test\n",
    "    max_depth=10,         # shallower trees, faster\n",
    "    random_state=42,\n",
    "    n_jobs=-1,           # use all CPU cores\n",
    "    verbose=1            # prints minimal progress info\n",
    ")\n",
    "\n",
    "# Train on the small subset\n",
    "rf_model.fit(X_train_subset, y_train_subset)\n"
   ]
  },
  {
   "cell_type": "markdown",
   "id": "480b8d1c",
   "metadata": {},
   "source": [
    "# Evaluation"
   ]
  },
  {
   "cell_type": "code",
   "execution_count": null,
   "id": "2b0cb351",
   "metadata": {},
   "outputs": [],
   "source": [
    "from sklearn.metrics import mean_squared_error, r2_score\n",
    "\n",
    "X_test_pca = np.nan_to_num(X_test_pca, nan=0.0, posinf=0.0, neginf=0.0)\n",
    "y_test = np.nan_to_num(y_test, nan=0.0, posinf=0.0, neginf=0.0)\n",
    "\n",
    "subset = 50000\n",
    "X_test_pca_subset = X_test_pca[-subset:]\n",
    "y_test_subset = y_test[-subset:]\n",
    "# ------------------------\n",
    "# 1. Predict on test set\n",
    "# ------------------------\n",
    "y_pred_subset = rf_model.predict(X_test_pca_subset)\n",
    "\n",
    "# ------------------------\n",
    "# 2. Evaluate\n",
    "# ------------------------\n",
    "rmse = np.sqrt(mean_squared_error(y_test_subset, y_pred_subset))\n",
    "r2 = r2_score(y_test_subset, y_pred_subset)\n",
    "print(\"RMSE:\", rmse)\n",
    "print(\"R²:\", r2)\n",
    "\n",
    "# ------------------------\n",
    "# 3. Feature importance\n",
    "# ------------------------\n",
    "plt.figure(figsize=(12,6))\n",
    "plt.bar(range(len(rf_model.feature_importances_)), rf_model.feature_importances_)\n",
    "plt.xlabel(\"PCA Component\")\n",
    "plt.ylabel(\"Importance\")\n",
    "plt.title(\"Random Forest Feature Importances (PCA components)\")\n",
    "plt.show()"
   ]
  },
  {
   "cell_type": "code",
   "execution_count": null,
   "id": "9a295bb7",
   "metadata": {},
   "outputs": [],
   "source": [
    "import matplotlib.pyplot as plt\n",
    "\n",
    "# Residuals\n",
    "residuals = y_test_subset - y_pred_subset\n",
    "\n",
    "plt.figure(figsize=(12,5))\n",
    "\n",
    "# 1. Residual plot\n",
    "plt.subplot(1,2,1)\n",
    "plt.scatter(y_pred_subset, residuals, alpha=0.5, color='teal')\n",
    "plt.axhline(0, color='red', linestyle='--')\n",
    "plt.xlabel(\"Predicted\")\n",
    "plt.ylabel(\"Residuals\")\n",
    "plt.title(\"Residuals vs Predicted\")\n",
    "\n",
    "# 2. Actual vs Predicted\n",
    "plt.subplot(1,2,2)\n",
    "plt.scatter(y_test_subset, y_pred_subset, alpha=0.5, color='orange')\n",
    "plt.plot([y_test_subset.min(), y_test_subset.max()],\n",
    "         [y_test_subset.min(), y_test_subset.max()],\n",
    "         'r--', linewidth=2)\n",
    "plt.xlabel(\"Actual\")\n",
    "plt.ylabel(\"Predicted\")\n",
    "plt.title(\"Actual vs Predicted\")\n",
    "\n",
    "plt.tight_layout()\n",
    "plt.show()\n",
    "\n",
    "\n",
    "# Assume X_test, y_test correspond to the last N rows of df\n",
    "df = df.with_columns([ (pl.col(\"Timestamp\") * 1000).cast(pl.Datetime(\"ms\")).alias(\"Timestamp_dt\") ])\n",
    "df_test_subset = df.tail(len(y_pred_subset)).select([\"Timestamp_dt\"]).to_pandas()\n",
    "\n",
    "plt.figure(figsize=(15,5))\n",
    "plt.plot(df_test_subset[\"Timestamp_dt\"], residuals, label=\"Residuals\", color=\"teal\")\n",
    "plt.axhline(0, color='red', linestyle='--')\n",
    "plt.xlabel(\"Time\")\n",
    "plt.ylabel(\"Residuals\")\n",
    "plt.title(\"Residuals over Time\")\n",
    "plt.legend()\n",
    "plt.show()\n",
    "\n"
   ]
  }
 ],
 "metadata": {
  "kernelspec": {
   "display_name": "Python 3",
   "language": "python",
   "name": "python3"
  },
  "language_info": {
   "codemirror_mode": {
    "name": "ipython",
    "version": 3
   },
   "file_extension": ".py",
   "mimetype": "text/x-python",
   "name": "python",
   "nbconvert_exporter": "python",
   "pygments_lexer": "ipython3",
   "version": "3.12.11"
  }
 },
 "nbformat": 4,
 "nbformat_minor": 5
}
